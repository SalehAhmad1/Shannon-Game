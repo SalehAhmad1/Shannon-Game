{
 "cells": [
  {
   "cell_type": "code",
   "execution_count": 54,
   "metadata": {},
   "outputs": [],
   "source": [
    "import numpy as np\n",
    "import pandas as pd\n",
    "import re\n",
    "\n",
    "import nltk\n",
    "from nltk.book import *"
   ]
  },
  {
   "cell_type": "code",
   "execution_count": 55,
   "metadata": {},
   "outputs": [
    {
     "data": {
      "text/plain": [
       "['moby',\n",
       " 'dick',\n",
       " 'by',\n",
       " 'herman',\n",
       " 'melville',\n",
       " 'etymology',\n",
       " 'supplied',\n",
       " 'by',\n",
       " 'a',\n",
       " 'late']"
      ]
     },
     "execution_count": 55,
     "metadata": {},
     "output_type": "execute_result"
    }
   ],
   "source": [
    "def Save_Text(Data, Path):\n",
    "    with open(Path, 'w') as f:\n",
    "        f.write(Data)\n",
    "\n",
    "def Clean_text(Data):\n",
    "    Data = re.sub(r'[^a-zA-Z]', ' ', Data)\n",
    "    Data = re.sub(r'\\s+', ' ', Data)\n",
    "    return Data\n",
    "\n",
    "def Tokenize(Data):\n",
    "    return Data.split()\n",
    "                        \n",
    "def Read_Docs(Docs_List):\n",
    "    Data = ''\n",
    "    for doc in Docs_List:\n",
    "        for word in doc:\n",
    "            Data += word + ' '\n",
    "    Data = Data.lower()\n",
    "    Save_Text(Data, './Data.txt')\n",
    "    Data = Clean_text(Data)\n",
    "    Data = Tokenize(Data)\n",
    "    return Data\n",
    "\n",
    "Data = Read_Docs([text1, text2, text3, text4, text5, text6, text7, text8, text9])\n",
    "Data[:10]"
   ]
  },
  {
   "cell_type": "code",
   "execution_count": 56,
   "metadata": {},
   "outputs": [],
   "source": [
    "class Shannon_Game():\n",
    "    def __init__(self, Data, ngram):\n",
    "        self.ngram = ngram\n",
    "        self.Data = Data\n",
    "        self.__Create_Vocabulary()\n",
    "        \n",
    "    def __Create_Vocabulary(self):\n",
    "        '''\n",
    "        Function to create vocabulary of n-grams\n",
    "        '''\n",
    "        self.Vocabulary = {}\n",
    "        for i in range(len(self.Data) - self.ngram):\n",
    "            gram = ' '.join(self.Data[i:i+self.ngram])\n",
    "            if gram not in self.Vocabulary.keys():\n",
    "                self.Vocabulary[gram] = 1\n",
    "            else:\n",
    "                self.Vocabulary[gram] += 1\n",
    "        self.Vocabulary_Size = len(self.Vocabulary)\n",
    "        for key in self.Vocabulary.keys():\n",
    "            self.Vocabulary[key] /= self.Vocabulary_Size\n",
    "\n",
    "    def __Extrinsic_Evaluation(self,Example):\n",
    "        '''\n",
    "        Function to calculate perplexity of a sentence given completed sentence.\n",
    "        Range of Perplexity is [1, inf). Target is to minimize perplexity.\n",
    "        '''\n",
    "        NGrams = Example.split()\n",
    "        Num_Tokens = len(NGrams)\n",
    "        NGrams = [' '.join(NGrams[i:i+self.ngram]) for i in range(Num_Tokens - self.ngram + 1)]\n",
    "\n",
    "        Probability = 0\n",
    "        for gram in NGrams:\n",
    "            Probability += np.log10(self.Vocabulary[gram])\n",
    "        Probability = np.exp(Probability)\n",
    "        Perplexity = (Probability)**(-1.0/Num_Tokens)\n",
    "        return Perplexity\n",
    "\n",
    "    def Lets_Play(self,Example):\n",
    "        '''\n",
    "        Function to predict next word given a sentence\n",
    "        '''\n",
    "        PreviousWords = Example.split()[-self.ngram+1:]\n",
    "        PreviousWords = ' '.join(PreviousWords)\n",
    "\n",
    "        Next_Word_Candidates = {}\n",
    "        for key in self.Vocabulary.keys():\n",
    "            if key.startswith(PreviousWords):\n",
    "                Next_Word_Candidates[key] = self.Vocabulary[key]\n",
    "        Next_Word_Candidates = sorted(Next_Word_Candidates.items(), key=lambda x: x[1], reverse=True)\n",
    "        NextWord = Next_Word_Candidates[0][0].split()[-1]\n",
    "\n",
    "        Perplexity = self.__Extrinsic_Evaluation(Example + ' ' + NextWord)\n",
    "        return NextWord, Perplexity"
   ]
  },
  {
   "cell_type": "code",
   "execution_count": 57,
   "metadata": {},
   "outputs": [
    {
     "name": "stdout",
     "output_type": "stream",
     "text": [
      "the wounded whale to be with perplexity -> 28.181690550287886\n",
      "floundered in the world with perplexity -> 10.601340485946048\n",
      "ship on the ocean without being struck with perplexity -> 54.970312495941684\n"
     ]
    }
   ],
   "source": [
    "Khel = Shannon_Game(Data, 3)\n",
    "\n",
    "Sample_Examples = ['the wounded whale to', 'floundered in the', 'ship on the ocean without being']\n",
    "for Example in Sample_Examples:\n",
    "    NextWord,Perplexity = Khel.Lets_Play(Example)\n",
    "    print(Example, NextWord, 'with perplexity ->', Perplexity)"
   ]
  }
 ],
 "metadata": {
  "kernelspec": {
   "display_name": "Python 3",
   "language": "python",
   "name": "python3"
  },
  "language_info": {
   "codemirror_mode": {
    "name": "ipython",
    "version": 3
   },
   "file_extension": ".py",
   "mimetype": "text/x-python",
   "name": "python",
   "nbconvert_exporter": "python",
   "pygments_lexer": "ipython3",
   "version": "3.10.6"
  },
  "orig_nbformat": 4
 },
 "nbformat": 4,
 "nbformat_minor": 2
}
